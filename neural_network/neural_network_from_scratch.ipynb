{
 "cells": [
  {
   "cell_type": "markdown",
   "metadata": {},
   "source": [
    "# Neural network \n",
    "1. Ustawienie losowych wag i biasów.\n",
    "2. Przepuszenie otrzymanych wyników przez funkcje aktywacji aby dodać nielinowość.\n",
    "3. Obliczenie błędu przewidywań wyników.\n",
    "4. Uruchomienie propagacji wstecznej aby poprawić skuteczność przewidywanych wyników.\n",
    "5. Trening modelu."
   ]
  },
  {
   "cell_type": "code",
   "execution_count": 1,
   "metadata": {},
   "outputs": [],
   "source": [
    "import numpy as np\n",
    "import matplotlib.pyplot as plt\n",
    "from sklearn.metrics import mean_squared_error"
   ]
  },
  {
   "cell_type": "code",
   "execution_count": 2,
   "metadata": {},
   "outputs": [],
   "source": [
    "def init_weight_bias():\n",
    "    weights = []\n",
    "    biases = []\n",
    "    \n",
    "    for _ in range(3):\n",
    "        weights.append(np.random.rand(2, 2) - 0.5)\n",
    "        biases.append(np.random.rand(1, 2) - 0.5)\n",
    "\n",
    "    return weights, biases"
   ]
  },
  {
   "cell_type": "markdown",
   "metadata": {},
   "source": [
    "Wyczytałem, że dobrze jest odjąć 0.5 od losowo wygenerowanej liczby bo stwarza to zakrec który zawiera liczby dodatnie jak i ujemne oraz wartości unikalne które sprzyjają lepszemu uczeniu się modelowi i nie powodują uczenia się w ten sam sposób na tych samych wagach i odchyleniach. Jest to optymalizacja problemu symmetry breaking. Odjęcie od bias wartości 0.5 pomaga w uniknięciu stronniczości w uczeniu maszynowym, jest to podobno standardowa inicjalizacja."
   ]
  },
  {
   "cell_type": "code",
   "execution_count": 3,
   "metadata": {},
   "outputs": [
    {
     "name": "stdout",
     "output_type": "stream",
     "text": [
      "Losowe wagi:  [array([[-0.3972919 , -0.41351816],\n",
      "       [-0.24413513, -0.24488088]]), array([[0.44098236, 0.16399595],\n",
      "       [0.24643083, 0.36768975]]), array([[-0.1578589 ,  0.25876884],\n",
      "       [ 0.47409877, -0.43352638]])]\n",
      "Losowe biasy:  [array([[0.22138048, 0.32468206]]), array([[-0.16939359, -0.00586325]]), array([[-0.41070221, -0.10139723]])]\n"
     ]
    }
   ],
   "source": [
    "weights, biases = init_weight_bias()\n",
    "\n",
    "print(\"Losowe wagi: \", weights)\n",
    "print(\"Losowe biasy: \", biases)"
   ]
  },
  {
   "cell_type": "markdown",
   "metadata": {},
   "source": [
    "![alt text](images/warstwa.png \"Layer\")"
   ]
  },
  {
   "cell_type": "code",
   "execution_count": 4,
   "metadata": {},
   "outputs": [],
   "source": [
    "# Abstrakcyjna wartwa bazowa\n",
    "def layer(input_X, output_Y):\n",
    "    input_X = None\n",
    "    output_Y = None\n",
    "\n",
    "    return input_X, output_Y"
   ]
  },
  {
   "cell_type": "markdown",
   "metadata": {},
   "source": [
    "![alt text](images/sigmoid.png \"funkcja aktywacji\")"
   ]
  },
  {
   "cell_type": "markdown",
   "metadata": {},
   "source": [
    "Zdecydowałem się na funkcje aktywacji sigmoid ponieważ wyczytałem, że jest idealna do klasyfkikacji binarnej 0,1 "
   ]
  },
  {
   "cell_type": "code",
   "execution_count": 5,
   "metadata": {},
   "outputs": [],
   "source": [
    "def sigmoid(x):\n",
    "    return 1 / (1 + np.exp(-x))"
   ]
  },
  {
   "cell_type": "markdown",
   "metadata": {},
   "source": [
    "![alt text](images/softmax.png \"softmax\")"
   ]
  },
  {
   "cell_type": "code",
   "execution_count": 6,
   "metadata": {},
   "outputs": [],
   "source": [
    "def softmax(x):\n",
    "    e_x = np.exp(x - np.max(x))\n",
    "    return e_x / e_x.sum()"
   ]
  },
  {
   "cell_type": "markdown",
   "metadata": {},
   "source": [
    "Miałem nadzieję, że funkcja softmax dedykowana do używania na wyjściowej warstwie poprawi wyniki mojego modelu."
   ]
  },
  {
   "cell_type": "markdown",
   "metadata": {},
   "source": [
    "![alt text](images/propagacja_do_przodu.png \"Propagacja do przodu\")"
   ]
  },
  {
   "cell_type": "markdown",
   "metadata": {},
   "source": [
    "![alt text](images/suma_wazona.png \"Suma wazona\")"
   ]
  },
  {
   "cell_type": "code",
   "execution_count": 7,
   "metadata": {},
   "outputs": [],
   "source": [
    "def forward_propagation(x, weights, biases):\n",
    "    # Pierwszy layer\n",
    "    z1 = np.dot(x, weights[0]) + biases[0]\n",
    "    result_activation_function = sigmoid(z1)\n",
    "    # Drugi layer\n",
    "    z2 = np.dot(result_activation_function, weights[1]) + biases[1]\n",
    "    result_activation_function2 = sigmoid(z2)\n",
    "\n",
    "    # Output layer\n",
    "    z3 = np.dot(result_activation_function2, weights[2]) + biases[2]\n",
    "    # output= sigmoid(z3)\n",
    "    # Użyje jednak funkcji softmax na końcu sieci\n",
    "    output = softmax(z3)\n",
    "\n",
    "\n",
    "    return result_activation_function, result_activation_function2, output"
   ]
  },
  {
   "cell_type": "code",
   "execution_count": 8,
   "metadata": {},
   "outputs": [],
   "source": [
    "def forward_propagation(x, W1, b1, W2, b2, W3, b3):\n",
    "    # Wejscie pierwszej warstwy\n",
    "    z1 = np.dot(x, W1) + b1\n",
    "    # Funkcja aktywacji\n",
    "    a1 = sigmoid(z1)\n",
    "\n",
    "    # Wejście do drugiej warstwy (tzw. ukrytej - \"hidden\")\n",
    "    z2 = np.dot(a1, W2) + b2 \n",
    "    a2 = sigmoid(z2)\n",
    "\n",
    "    # Wejście do warstwy wyjściowej (tzw. output layer)\n",
    "    z3 = np.dot(a2, W3) + b3\n",
    "    output_layer = sigmoid(z3)\n",
    "\n",
    "    return a1, a2, output_layer"
   ]
  },
  {
   "cell_type": "markdown",
   "metadata": {},
   "source": [
    "Doszlismy do końca sieci więc należy policzyć straty aby poprawić wyniki przewidywań. "
   ]
  },
  {
   "cell_type": "code",
   "execution_count": 9,
   "metadata": {},
   "outputs": [],
   "source": [
    "def mse_loss(y_true, output_predict):\n",
    "    y_true = y_true.reshape(-1, 1) # Reshape danych do tablic 2D\n",
    "    output_predict = output_predict.reshape(-1, 1) # Reshape danych do tablic 2D\n",
    "    output_error = mean_squared_error(y_true, output_predict)\n",
    "    return output_error"
   ]
  },
  {
   "cell_type": "markdown",
   "metadata": {},
   "source": [
    "Zdecydowałem się zastasować średni błęd kwadratowy ponieważ jest to dość popularna metoda i używałem tego wcześniej do sprawdzenia straty przy przewidywań modelu Linii Regresyjnej."
   ]
  },
  {
   "cell_type": "code",
   "execution_count": 10,
   "metadata": {},
   "outputs": [],
   "source": [
    "# Cost function: Binary cross-entropy loss\n",
    "def compute_cost(y, y_hat):\n",
    "    m = y.shape[0]                            # Number of samples\n",
    "    y_hat = np.clip(y_hat, 1e-10, 1 - 1e-10)  # Avoid log(0) errors by clipping predictions\n",
    "\n",
    "    # Vectorized implementation of binary cross-entropy loss\n",
    "    cost = -(1 / m) * np.sum(y * np.log(y_hat) + (1 - y) * np.log(1 - y_hat))\n",
    "    return cost"
   ]
  },
  {
   "cell_type": "markdown",
   "metadata": {},
   "source": [
    "Entropia krzyżowa niestety idzie w parze z funkcją softmax więc musiałem zrezygnować z MSE"
   ]
  },
  {
   "cell_type": "markdown",
   "metadata": {},
   "source": [
    "![alt text](images/backpropagation.png \"Backpropagation\")"
   ]
  },
  {
   "cell_type": "code",
   "execution_count": 11,
   "metadata": {},
   "outputs": [],
   "source": [
    "# def backward_propagation(x, output_error, weights, biases, learning_rate):\n",
    "\n",
    "#     weights = np.array(weights)\n",
    "#     biases = np.array(biases)\n",
    "\n",
    "#     input_error = np.dot(output_error, weights.T)\n",
    "#     weights_error = np.dot(x.T, output_error)\n",
    "\n",
    "#     print(weights.shape)\n",
    "#     print(weights_error.shape)\n",
    "#     print(output_error.shape)\n",
    "\n",
    "#     # Aktualizacja wag i baisow\n",
    "#     for i in range(len(weights) - 1):\n",
    "#         weights -= learning_rate * weights_error\n",
    "#         biases -= learning_rate * output_error \n",
    "\n",
    "#     return weights, biases\n"
   ]
  },
  {
   "cell_type": "markdown",
   "metadata": {},
   "source": [
    "Nie mogłem tego zrobić na swój własny sposób, bo mi się kształty nie zgadzały."
   ]
  },
  {
   "cell_type": "code",
   "execution_count": 12,
   "metadata": {},
   "outputs": [],
   "source": [
    "def backward_propagation(x, y, a1, a2, output, W3, W2):\n",
    "    # m = y.shape[0]\n",
    "    m = x.shape[1]\n",
    "    error = output - y\n",
    "\n",
    "    # Obliczanie gradientow propagacji wstecznej dla wartwy wyjscia\n",
    "    dW3 = (1 / m) * np.dot(a2.T, error) / m\n",
    "    db3 = (1 / m) * np.sum(error, axis=0, keepdims=True)\n",
    "\n",
    "    # Obliczanie gradientu propagacji wstecznej dla pierwszej wartwy\n",
    "    dz2 = np.dot(error, W3.T) * (a2 * (1 - a2)) \n",
    "    dW2 = (1 / m) * np.dot(a1.T, dz2) / m\n",
    "    db2 = (1 / m) * np.sum(dz2, axis=0, keepdims=True) / m\n",
    "\n",
    "    # Obliczanie gradientu propagacji wstecznej dla pierwszej wartwy\n",
    "    dz1 = np.dot(dz2, W2.T) * (a1 * (1 - a1))\n",
    "    dW1 = (1 / m) * np.dot(x.T, dz1) / m\n",
    "    db1 = (1 / m) * np.sum(dz1, axis=0, keepdims=True) / m\n",
    "\n",
    "    # # Aktualizacja wag i biasów\n",
    "    # weights[2] -= learning_rate * dW3\n",
    "    # biases[2] -= learning_rate * db3\n",
    "    # weights[1] -= learning_rate * dW2\n",
    "    # biases[1] -= learning_rate * db2\n",
    "    # weights[0] -= learning_rate * dW1\n",
    "    # biases[0] -= learning_rate * db1\n",
    "\n",
    "    return dW1, db1, dW2, db2, dW3, db3"
   ]
  },
  {
   "cell_type": "code",
   "execution_count": 13,
   "metadata": {},
   "outputs": [],
   "source": [
    "def update_weights_bias(W1, b1, W2, b2, W3, b3, dW1, db1, dW2, db2, dW3, db3, learning_rate):\n",
    "    W1 -= learning_rate * dW1\n",
    "    b1 -= learning_rate * db1\n",
    "\n",
    "    W2 -= learning_rate * dW2\n",
    "    b2 -= learning_rate * db2\n",
    "    \n",
    "    W3 -= learning_rate * dW3\n",
    "    b3 -= learning_rate * db3\n",
    "\n",
    "    return W1, b1, W2, b2, W3, b3  "
   ]
  },
  {
   "cell_type": "markdown",
   "metadata": {},
   "source": [
    "Nie potrafiłem sobie poradzić z implementacją propagacji wstecznej, dlatego użyłem kodu znalezionego na necie."
   ]
  },
  {
   "cell_type": "markdown",
   "metadata": {},
   "source": [
    "# Test sieci neuronowej"
   ]
  },
  {
   "cell_type": "code",
   "execution_count": 14,
   "metadata": {},
   "outputs": [],
   "source": [
    "# x_train = np.array([[0, 0], [0, 1], [1, 0], [1, 1]]) \n",
    "# y_predict = np.array([[0], [1], [1], [0]])  \n",
    "\n",
    "# learning_rate = 0.01\n",
    "# epochs = 10000\n",
    "\n",
    "# for epoch in range(epochs):\n",
    "#     # Propagacja w przód\n",
    "#     layer1, layer2, output = forward_propagation(x_train, weights, biases)\n",
    "\n",
    "#     # Obliczenie kosztu straty po dojściu na koniec sieci\n",
    "#     # loss = mse_loss(y_predict, output)\n",
    "#     loss = compute_cost(y_predict, output)\n",
    "\n",
    "#     # Propagacja wsteczna\n",
    "#     update_weights, update_biases = backward_propagation(x_train, y_predict, layer1, layer2, output, weights, biases, learning_rate)\n",
    "\n",
    "#     if epoch % 1000 == 0:\n",
    "#         print(f\"Iteracje/Epoki {epoch}, Strata : {loss:.4f}\")"
   ]
  },
  {
   "cell_type": "code",
   "execution_count": 15,
   "metadata": {},
   "outputs": [],
   "source": [
    "# x_train = np.array([[0,0],[0,1],[1,0],[1,1]])\n",
    "# y_train = np.array([[0],[1],[1],[0]])\n",
    "\n",
    "# fetures_1 = x_train.shape[1]\n",
    "# neurons_1 = x_train.shape[1]\n",
    "\n",
    "# W1_1, b1_1 = init_weight_bias(fetures_1, neurons_1)\n",
    "# W2_2, b2_2 = init_weight_bias(fetures_1, neurons_1)\n",
    "# W3_3, b3_3 = init_weight_bias(fetures_1, 1)\n",
    "\n",
    "# x_train = np.array([[0, 0], [0, 1], [1, 0], [1, 1]]) \n",
    "# y_predict = np.array([[0], [1], [1], [0]])  \n",
    "\n",
    "# learning_rate = 0.1\n",
    "# epochs = 10000\n",
    "\n",
    "# for epoch in range(epochs):\n",
    "#     # Propagacja w przód\n",
    "#     layer1, layer2, output = forward_propagation(x_train, weights, biases)\n",
    "\n",
    "#     # Obliczenie kosztu straty po dojściu na koniec sieci\n",
    "#     # loss = mse_loss(y_predict, output)\n",
    "#     loss = compute_cost(y_predict, output)\n",
    "\n",
    "#     # Propagacja wsteczna\n",
    "#     update_weights, update_biases = backward_propagation(x_train, y_predict, layer1, layer2, output, weights, biases, learning_rate)\n",
    "\n",
    "#     if epoch % 1000 == 0:\n",
    "#         print(f\"Iteracje/Epoki {epoch}, Strata : {loss:.4f}\")"
   ]
  },
  {
   "cell_type": "code",
   "execution_count": 16,
   "metadata": {},
   "outputs": [],
   "source": [
    "def init_weight_bias(number_of_features, number_neuron_of_layer):\n",
    "    weights = np.random.rand(number_of_features, number_neuron_of_layer)\n",
    "    bias = np.zeros((1, number_neuron_of_layer))\n",
    "\n",
    "    return weights, bias"
   ]
  },
  {
   "cell_type": "code",
   "execution_count": 20,
   "metadata": {},
   "outputs": [
    {
     "name": "stdout",
     "output_type": "stream",
     "text": [
      "Iteracje/Epoki 0, Strata : 0.8092\n",
      "Iteracje/Epoki 1000, Strata : 0.6916\n",
      "Iteracje/Epoki 2000, Strata : 0.6891\n",
      "Iteracje/Epoki 3000, Strata : 0.6811\n",
      "Iteracje/Epoki 4000, Strata : 0.6450\n",
      "Iteracje/Epoki 5000, Strata : 0.5499\n",
      "Iteracje/Epoki 6000, Strata : 0.4648\n",
      "Iteracje/Epoki 7000, Strata : 0.0781\n",
      "Iteracje/Epoki 8000, Strata : 0.0255\n",
      "Iteracje/Epoki 9000, Strata : 0.0143\n"
     ]
    }
   ],
   "source": [
    "x_train = np.array([[0,0],[0,1],[1,0],[1,1]])\n",
    "y_train = np.array([[0],[1],[1],[0]])\n",
    "\n",
    "fetures_1 = x_train.shape[1]\n",
    "neurons_1 = x_train.shape[1]\n",
    "\n",
    "W1_1, b1_1 = init_weight_bias(fetures_1, neurons_1)\n",
    "W2_2, b2_2 = init_weight_bias(fetures_1, neurons_1)\n",
    "W3_3, b3_3 = init_weight_bias(fetures_1, 1)\n",
    "\n",
    "x_train = np.array([[0, 0], [0, 1], [1, 0], [1, 1]]) \n",
    "y_predict = np.array([[0], [1], [1], [0]])  \n",
    "\n",
    "learning_rate = 0.1\n",
    "epochs = 10000\n",
    "\n",
    "for epoch in range(epochs):\n",
    "    # Propagacja w przód\n",
    "    layer1, layer2, output = forward_propagation(x_train, W1_1, b1_1, W2_2, b2_2, W3_3, b3_3)\n",
    "\n",
    "    # Obliczenie kosztu straty po dojściu na koniec sieci\n",
    "    # loss = mse_loss(y_predict, output)\n",
    "    loss = compute_cost(y_predict, output)\n",
    "\n",
    "    # Propagacja wsteczna\n",
    "    dW1_1, db1_1, dW2_2, db2_2, dW3_3, db3_3 = backward_propagation(x_train, y_predict, layer1, layer2, output, W3_3, W2_2)\n",
    "    \n",
    "    # Aktualizacja wag i biasow\n",
    "    W1_1, b1_1, W2_2, b2_2, W3_3, b3_3 = update_weights_bias(W1_1, b1_1, W2_2, b2_2, W3_3, b3_3, dW1_1, db1_1, dW2_2, db2_2, dW3_3, db3_3, learning_rate)\n",
    "\n",
    "    if epoch % 1000 == 0:\n",
    "        print(f\"Iteracje/Epoki {epoch}, Strata : {loss:.4f}\")"
   ]
  },
  {
   "cell_type": "code",
   "execution_count": 21,
   "metadata": {},
   "outputs": [],
   "source": [
    "def predict(W1, b1, W2, b2, W3, b3, test):\n",
    "    a1, a2, output = forward_propagation(test, W1_1, b1_1, W2_2, b2_2, W3_3, b3_3)\n",
    "    output_a3 = np.squeeze(output)\n",
    "\n",
    "    prediction = 1 if output >= 0.5 else 0\n",
    "\n",
    "    print(\"Dane:\", test.tolist(), \"Odpowiedź:\", prediction)"
   ]
  },
  {
   "cell_type": "code",
   "execution_count": 22,
   "metadata": {},
   "outputs": [
    {
     "name": "stdout",
     "output_type": "stream",
     "text": [
      "Dane: [[0, 0]] Odpowiedź: 0\n",
      "Dane: [[0, 1]] Odpowiedź: 1\n",
      "Dane: [[1, 0]] Odpowiedź: 1\n",
      "Dane: [[1, 1]] Odpowiedź: 0\n"
     ]
    }
   ],
   "source": [
    "test = np.array([[0,0]])\n",
    "predict(W1_1, b1_1, W2_2, b2_2, W3_3, b3_3, test)\n",
    "test = np.array([[0,1]])\n",
    "predict(W1_1, b1_1, W2_2, b2_2, W3_3, b3_3, test)\n",
    "test = np.array([[1,0]])\n",
    "predict(W1_1, b1_1, W2_2, b2_2, W3_3, b3_3, test)\n",
    "test = np.array([[1,1]])\n",
    "predict(W1_1, b1_1, W2_2, b2_2, W3_3, b3_3, test)"
   ]
  }
 ],
 "metadata": {
  "kernelspec": {
   "display_name": "Python 3",
   "language": "python",
   "name": "python3"
  },
  "language_info": {
   "codemirror_mode": {
    "name": "ipython",
    "version": 3
   },
   "file_extension": ".py",
   "mimetype": "text/x-python",
   "name": "python",
   "nbconvert_exporter": "python",
   "pygments_lexer": "ipython3",
   "version": "3.11.9"
  }
 },
 "nbformat": 4,
 "nbformat_minor": 2
}

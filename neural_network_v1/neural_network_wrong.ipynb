{
 "cells": [
  {
   "cell_type": "markdown",
   "metadata": {},
   "source": [
    "Rozwiązanie problemu XOR"
   ]
  },
  {
   "cell_type": "code",
   "execution_count": 1,
   "metadata": {},
   "outputs": [],
   "source": [
    "import numpy as np"
   ]
  },
  {
   "cell_type": "code",
   "execution_count": 2,
   "metadata": {},
   "outputs": [
    {
     "name": "stdout",
     "output_type": "stream",
     "text": [
      "[4.8   1.21  2.385]\n"
     ]
    }
   ],
   "source": [
    "inputs = [1, 2, 3, 2.5]\n",
    "\n",
    "weights = [[0.2, 0.8, - 0.5, 1],\n",
    "        [0.5, - 0.91, 0.26, -0.5],\n",
    "        [-0.26, -0.27, 0.17, 0.87]]\n",
    "\n",
    "biases = [2, 3, 0.5]\n",
    "\n",
    "outputs = np.dot(weights, inputs) + biases\n",
    "\n",
    "print(outputs)"
   ]
  },
  {
   "cell_type": "code",
   "execution_count": 3,
   "metadata": {},
   "outputs": [],
   "source": [
    "x_train = np.array([[0,0], [0,1], [1,0], [1, 1]])\n",
    "y_train = np.array([[0], [1], [1], [0]])"
   ]
  },
  {
   "cell_type": "code",
   "execution_count": 4,
   "metadata": {},
   "outputs": [],
   "source": [
    "def init_params(input_size, output_size):\n",
    "    weights = np.random.rand(input_size, output_size) - 0.5\n",
    "    bias = np.random.rand(1, output_size) - 0.5\n",
    "\n",
    "    return weights, biases"
   ]
  },
  {
   "cell_type": "code",
   "execution_count": 5,
   "metadata": {},
   "outputs": [],
   "source": [
    "def sigmoid(x):\n",
    "    return 1/(1 + np.exp(-x))"
   ]
  },
  {
   "cell_type": "code",
   "execution_count": 6,
   "metadata": {},
   "outputs": [],
   "source": [
    "def forward_prop(x, w1, b1, w2, b2):\n",
    "    z1 = np.dot(w1, x.T)\n",
    "    a1 = sigmoid(z1)\n",
    "    print(f\"activation_shape: {a1.shape}\")\n",
    "    print(f\"activation_return: {a1}\" ) \n",
    "    print(f\"weight2: {w2.shape}\")\n",
    "    print(f\"weight2_return: {w2}\" ) \n",
    "    z2 = np.dot(w2, a1.T)\n",
    "    a2 = sigmoid(z2)\n",
    "\n",
    "    return z1, a1, z2, a2"
   ]
  },
  {
   "cell_type": "code",
   "execution_count": 7,
   "metadata": {},
   "outputs": [],
   "source": [
    "np.set_printoptions(suppress=True)"
   ]
  },
  {
   "cell_type": "code",
   "execution_count": 8,
   "metadata": {},
   "outputs": [],
   "source": [
    "# rows = x_train.shape[0] \n",
    "# colums = x_train.shape[1]\n",
    "\n",
    "# print(f\"x_train shape: {x_train.shape}\")\n",
    "# print(f\"y_train shape: {y_train.shape}\")\n",
    "\n",
    "# samples = x_train.shape[1]\n",
    "\n",
    "# W1, b1 = init_params(rows, colums)\n",
    "# W2, b2 = init_params(rows, colums)\n",
    "\n",
    "# print(f\"w1 shape: {W1.shape}\")\n",
    "# # print(f\"b1 shape: {b1.shape}\")\n",
    "# print(f\"w2 shape: {W2.shape}\")\n",
    "# # print(f\"b2 shape: {b2.shape}\")\n",
    "# print(f\"x_train.T: {x_train.T.shape}\")\n",
    "\n",
    "# print(\"x_train:\")\n",
    "# print(x_train)\n",
    "# print(x_train.T)\n",
    "\n",
    "# test_forward_function = forward_prop(x_train, W1, W2, b1, b2)\n",
    "# print(test_forward_function)"
   ]
  },
  {
   "cell_type": "code",
   "execution_count": 9,
   "metadata": {},
   "outputs": [
    {
     "name": "stdout",
     "output_type": "stream",
     "text": [
      "x_train.shape: (4, 2)\n",
      "x_train: [[0 0]\n",
      " [0 1]\n",
      " [1 0]\n",
      " [1 1]]\n",
      "w1: (4, 2)\n",
      "w1: [[ 0.15481546  0.27665259]\n",
      " [-0.28154435  0.46677426]\n",
      " [ 0.04355681  0.47528034]\n",
      " [ 0.3209511  -0.09335996]]\n",
      "x_train.Transpose: (2, 4)\n",
      "x_train.T: [[0 0 1 1]\n",
      " [0 1 0 1]]\n"
     ]
    }
   ],
   "source": [
    "import numpy as np\n",
    "np.set_printoptions(suppress=True)\n",
    "\n",
    "x_train = np.array([[0,0], [0,1], [1,0], [1, 1]])\n",
    "y_train = np.array([[0], [1], [1], [0]])\n",
    "\n",
    "print(f\"x_train.shape: {x_train.shape}\")\n",
    "print(f\"x_train: {x_train}\")\n",
    "\n",
    "rows = x_train.shape[0] \n",
    "colums = x_train.shape[1]\n",
    "\n",
    "W1 = np.random.rand(rows, colums) - 0.5\n",
    "b1 = np.random.rand(rows, 1) - 0.5\n",
    "\n",
    "W2 = np.random.rand(rows, rows) - 0.5\n",
    "b2 = np.random.rand(rows, 1) - 0.5\n",
    "\n",
    "print(f\"w1: {W1.shape}\")\n",
    "print(f\"w1: {W1}\")\n",
    "print(f\"x_train.Transpose: {x_train.T.shape}\")\n",
    "print(f\"x_train.T: {x_train.T}\")"
   ]
  },
  {
   "cell_type": "code",
   "execution_count": 10,
   "metadata": {},
   "outputs": [
    {
     "name": "stdout",
     "output_type": "stream",
     "text": [
      "activation: (4, 4)\n",
      "activation: [[0.61522683 0.67830423 0.65116238 0.71111492]\n",
      " [0.60809009 0.71219433 0.53935511 0.65124608]\n",
      " [0.53729712 0.65129728 0.54810646 0.66112313]\n",
      " [0.51775282 0.49442053 0.5967622  0.57410814]]\n",
      "w2: (4, 4)\n",
      "w2: [[-0.23546594 -0.36567379 -0.20949391  0.2801818 ]\n",
      " [-0.11654084  0.01612892 -0.45466406 -0.11683846]\n",
      " [-0.18756929 -0.2219749  -0.14033543  0.41087844]\n",
      " [-0.18820138 -0.49129828  0.07037346 -0.27368101]]\n",
      "b1.shape: (4, 1)\n",
      "b1: [[0.46933704]\n",
      " [0.43929107]\n",
      " [0.14946611]\n",
      " [0.07104115]]\n"
     ]
    }
   ],
   "source": [
    "z1 = np.dot(W1, x_train.T) + b1\n",
    "a1 = sigmoid(z1)\n",
    "print(f\"activation: {a1.shape}\")\n",
    "print(f\"activation: {a1}\")\n",
    "print(f\"w2: {W2.shape}\")\n",
    "print(f\"w2: {W2}\")\n",
    "print(f\"b1.shape: {b1.shape}\")\n",
    "print(f\"b1: {b1}\")\n"
   ]
  },
  {
   "cell_type": "code",
   "execution_count": 11,
   "metadata": {},
   "outputs": [
    {
     "name": "stdout",
     "output_type": "stream",
     "text": [
      "w2: (4, 4)\n",
      "w2: [[-0.23546594 -0.36567379 -0.20949391  0.2801818 ]\n",
      " [-0.11654084  0.01612892 -0.45466406 -0.11683846]\n",
      " [-0.18756929 -0.2219749  -0.14033543  0.41087844]\n",
      " [-0.18820138 -0.49129828  0.07037346 -0.27368101]]\n",
      "b2.shape: (4, 1)\n",
      "b2: [[ 0.45999596]\n",
      " [-0.16222399]\n",
      " [-0.36350915]\n",
      " [ 0.33506826]]\n",
      "activation2: (4, 4)\n",
      "activation2: [[0.49502766 0.4383288  0.49534303 0.6515931 ]\n",
      " [0.35157117 0.30729861 0.34450445 0.49207961]\n",
      " [0.31149071 0.26973757 0.30947298 0.43910465]\n",
      " [0.48389375 0.43516449 0.48961701 0.62490963]]\n"
     ]
    }
   ],
   "source": [
    "z2 = np.dot(a1, W2) + b2\n",
    "# z2 = np.dot(W2.T, a1)\n",
    "a2 = sigmoid(z2)\n",
    "\n",
    "print(f\"w2: {W2.shape}\")\n",
    "print(f\"w2: {W2}\")\n",
    "print(f\"b2.shape: {b2.shape}\")\n",
    "print(f\"b2: {b2}\")\n",
    "\n",
    "print(f\"activation2: {a2.shape}\")\n",
    "print(f\"activation2: {a2}\")"
   ]
  },
  {
   "cell_type": "code",
   "execution_count": 12,
   "metadata": {},
   "outputs": [
    {
     "name": "stdout",
     "output_type": "stream",
     "text": [
      "Różnica błedu:\n",
      " [[ 0.49502766  0.4383288   0.49534303  0.6515931 ]\n",
      " [-0.64842883 -0.69270139 -0.65549555 -0.50792039]\n",
      " [-0.68850929 -0.73026243 -0.69052702 -0.56089535]\n",
      " [ 0.48389375  0.43516449  0.48961701  0.62490963]]\n",
      "dW2:\n",
      " [[-0.1197525  -0.18312905 -0.12067417  0.06775081]\n",
      " [-0.10850151 -0.1686331  -0.10960257  0.06946873]\n",
      " [-0.10690302 -0.16410299 -0.10778064  0.06250189]\n",
      " [-0.09868177 -0.15075068 -0.09930626  0.05514123]]\n"
     ]
    }
   ],
   "source": [
    "m = x_train.shape[1]\n",
    "dz2 = a2 - y_train\n",
    "print(f\"Różnica błedu:\\n {dz2}\")\n",
    "dW2 = np.dot(a1, dz2) / m\n",
    "print(f\"dW2:\\n {dW2}\")"
   ]
  },
  {
   "cell_type": "code",
   "execution_count": 13,
   "metadata": {},
   "outputs": [
    {
     "name": "stdout",
     "output_type": "stream",
     "text": [
      "W2: [[-0.23546594 -0.11654084 -0.18756929 -0.18820138]\n",
      " [-0.36567379  0.01612892 -0.2219749  -0.49129828]\n",
      " [-0.20949391 -0.45466406 -0.14033543  0.07037346]\n",
      " [ 0.2801818  -0.11683846  0.41087844 -0.27368101]]\n"
     ]
    }
   ],
   "source": [
    "dz1 = np.dot(dz2, W2.T) * a1*(1-a1)\n",
    "print(f\"W2: {W2.T}\")"
   ]
  },
  {
   "cell_type": "code",
   "execution_count": 15,
   "metadata": {},
   "outputs": [
    {
     "ename": "ValueError",
     "evalue": "shapes (4,4) and (2,4) not aligned: 4 (dim 1) != 2 (dim 0)",
     "output_type": "error",
     "traceback": [
      "\u001b[1;31m---------------------------------------------------------------------------\u001b[0m",
      "\u001b[1;31mValueError\u001b[0m                                Traceback (most recent call last)",
      "Cell \u001b[1;32mIn[15], line 1\u001b[0m\n\u001b[1;32m----> 1\u001b[0m dW1 \u001b[38;5;241m=\u001b[39m \u001b[43mnp\u001b[49m\u001b[38;5;241;43m.\u001b[39;49m\u001b[43mdot\u001b[49m\u001b[43m(\u001b[49m\u001b[43mdz1\u001b[49m\u001b[43m,\u001b[49m\u001b[43m \u001b[49m\u001b[43mx_train\u001b[49m\u001b[38;5;241;43m.\u001b[39;49m\u001b[43mT\u001b[49m\u001b[43m)\u001b[49m \u001b[38;5;241m/\u001b[39m m\n",
      "\u001b[1;31mValueError\u001b[0m: shapes (4,4) and (2,4) not aligned: 4 (dim 1) != 2 (dim 0)"
     ]
    }
   ],
   "source": [
    "dW1 = np.dot(dz1, x_train.T) / m"
   ]
  },
  {
   "cell_type": "code",
   "execution_count": 16,
   "metadata": {},
   "outputs": [
    {
     "name": "stdout",
     "output_type": "stream",
     "text": [
      "dz1.shape:\n",
      " (4, 4)\n",
      "dz1:\n",
      " [[-0.04688397 -0.07680187  0.00183115 -0.09285144]\n",
      " [ 0.09556443  0.08645187  0.03942507  0.12610797]\n",
      " [ 0.1035871   0.10173423  0.03905725  0.13291508]\n",
      " [-0.05007485 -0.08623911  0.00016654 -0.10793436]]\n",
      "x_train.T.shape:\n",
      " (2, 4)\n",
      "x_train.T:\n",
      " [[0 0 1 1]\n",
      " [0 1 0 1]]\n",
      "x_train.shape\n",
      " (4, 2)\n",
      "x_train:\n",
      " [[0 0]\n",
      " [0 1]\n",
      " [1 0]\n",
      " [1 1]]\n"
     ]
    }
   ],
   "source": [
    "print(f\"dz1.shape:\\n {dz1.shape}\")\n",
    "print(f\"dz1:\\n {dz1}\")\n",
    "print(f\"x_train.T.shape:\\n {x_train.T.shape}\")\n",
    "print(f\"x_train.T:\\n {x_train.T}\")\n",
    "print(f\"x_train.shape\\n {x_train.shape}\")\n",
    "print(f\"x_train:\\n {x_train}\")"
   ]
  },
  {
   "cell_type": "code",
   "execution_count": 17,
   "metadata": {},
   "outputs": [],
   "source": [
    "dW1 = np.dot(dz1, x_train) / m"
   ]
  },
  {
   "cell_type": "code",
   "execution_count": 18,
   "metadata": {},
   "outputs": [],
   "source": [
    "def forward_propagation(x, W1, b1, W2, b2):\n",
    "    z1 = np.dot(W1, x.T) + b1\n",
    "    a1 = sigmoid(z1)\n",
    "    z2 = np.dot(a1, W2) + b2\n",
    "    a2 = sigmoid(z2)\n",
    "\n",
    "    return z1, a1, z2, a2"
   ]
  },
  {
   "cell_type": "code",
   "execution_count": 19,
   "metadata": {},
   "outputs": [],
   "source": [
    "def back_propagation(x, y, W1, W2, a1, a2):\n",
    "    m = x\n",
    "    dz2 = a2 - y\n",
    "    dW2 = np.dot(a1, dz2) / m\n",
    "    dz1 = np.dot(W2, dz2) * a1*(1-a1)\n",
    "    dW1 = np.dot(dz1, x) / m\n",
    "    dW1 = np.reshape(dW1, W1.shape)\n",
    "    dW2 = np.reshape(dW2, W2.shape)\n",
    "\n",
    "    return dz2, dW2, dz1, dW1"
   ]
  },
  {
   "cell_type": "code",
   "execution_count": 20,
   "metadata": {},
   "outputs": [
    {
     "ename": "ValueError",
     "evalue": "cannot reshape array of size 16 into shape (4,2)",
     "output_type": "error",
     "traceback": [
      "\u001b[1;31m---------------------------------------------------------------------------\u001b[0m",
      "\u001b[1;31mValueError\u001b[0m                                Traceback (most recent call last)",
      "Cell \u001b[1;32mIn[20], line 10\u001b[0m\n\u001b[0;32m      8\u001b[0m loss \u001b[38;5;241m=\u001b[39m \u001b[38;5;241m-\u001b[39m(\u001b[38;5;241m1\u001b[39m\u001b[38;5;241m/\u001b[39msamples) \u001b[38;5;241m*\u001b[39m np\u001b[38;5;241m.\u001b[39msum(y_train\u001b[38;5;241m*\u001b[39mnp\u001b[38;5;241m.\u001b[39mlog(a2)\u001b[38;5;241m+\u001b[39m(\u001b[38;5;241m1\u001b[39m\u001b[38;5;241m-\u001b[39my_train)\u001b[38;5;241m*\u001b[39mnp\u001b[38;5;241m.\u001b[39mlog(\u001b[38;5;241m1\u001b[39m\u001b[38;5;241m-\u001b[39ma2))\n\u001b[0;32m      9\u001b[0m losses\u001b[38;5;241m.\u001b[39mappend(loss)\n\u001b[1;32m---> 10\u001b[0m da2, dw2, dz1, dw1 \u001b[38;5;241m=\u001b[39m \u001b[43mback_propagation\u001b[49m\u001b[43m(\u001b[49m\u001b[43msamples\u001b[49m\u001b[43m,\u001b[49m\u001b[43m \u001b[49m\u001b[43my_train\u001b[49m\u001b[43m,\u001b[49m\u001b[43m \u001b[49m\u001b[43mW1\u001b[49m\u001b[43m,\u001b[49m\u001b[43m \u001b[49m\u001b[43mW2\u001b[49m\u001b[43m,\u001b[49m\u001b[43m \u001b[49m\u001b[43ma1\u001b[49m\u001b[43m,\u001b[49m\u001b[43m \u001b[49m\u001b[43ma2\u001b[49m\u001b[43m)\u001b[49m\n\u001b[0;32m     11\u001b[0m W2 \u001b[38;5;241m=\u001b[39m W2 \u001b[38;5;241m-\u001b[39m lr \u001b[38;5;241m*\u001b[39m dw2\n\u001b[0;32m     12\u001b[0m W1 \u001b[38;5;241m=\u001b[39m W1\u001b[38;5;241m.\u001b[39mT \u001b[38;5;241m-\u001b[39m lr \u001b[38;5;241m*\u001b[39m dw1 \n",
      "Cell \u001b[1;32mIn[19], line 7\u001b[0m, in \u001b[0;36mback_propagation\u001b[1;34m(x, y, W1, W2, a1, a2)\u001b[0m\n\u001b[0;32m      5\u001b[0m dz1 \u001b[38;5;241m=\u001b[39m np\u001b[38;5;241m.\u001b[39mdot(W2, dz2) \u001b[38;5;241m*\u001b[39m a1\u001b[38;5;241m*\u001b[39m(\u001b[38;5;241m1\u001b[39m\u001b[38;5;241m-\u001b[39ma1)\n\u001b[0;32m      6\u001b[0m dW1 \u001b[38;5;241m=\u001b[39m np\u001b[38;5;241m.\u001b[39mdot(dz1, x) \u001b[38;5;241m/\u001b[39m m\n\u001b[1;32m----> 7\u001b[0m dW1 \u001b[38;5;241m=\u001b[39m \u001b[43mnp\u001b[49m\u001b[38;5;241;43m.\u001b[39;49m\u001b[43mreshape\u001b[49m\u001b[43m(\u001b[49m\u001b[43mdW1\u001b[49m\u001b[43m,\u001b[49m\u001b[43m \u001b[49m\u001b[43mW1\u001b[49m\u001b[38;5;241;43m.\u001b[39;49m\u001b[43mshape\u001b[49m\u001b[43m)\u001b[49m\n\u001b[0;32m      8\u001b[0m dW2 \u001b[38;5;241m=\u001b[39m np\u001b[38;5;241m.\u001b[39mreshape(dW2, W2\u001b[38;5;241m.\u001b[39mshape)\n\u001b[0;32m     10\u001b[0m \u001b[38;5;28;01mreturn\u001b[39;00m dz2, dW2, dz1, dW1\n",
      "File \u001b[1;32m~\\AppData\\Local\\Packages\\PythonSoftwareFoundation.Python.3.11_qbz5n2kfra8p0\\LocalCache\\local-packages\\Python311\\site-packages\\numpy\\core\\fromnumeric.py:285\u001b[0m, in \u001b[0;36mreshape\u001b[1;34m(a, newshape, order)\u001b[0m\n\u001b[0;32m    200\u001b[0m \u001b[38;5;129m@array_function_dispatch\u001b[39m(_reshape_dispatcher)\n\u001b[0;32m    201\u001b[0m \u001b[38;5;28;01mdef\u001b[39;00m \u001b[38;5;21mreshape\u001b[39m(a, newshape, order\u001b[38;5;241m=\u001b[39m\u001b[38;5;124m'\u001b[39m\u001b[38;5;124mC\u001b[39m\u001b[38;5;124m'\u001b[39m):\n\u001b[0;32m    202\u001b[0m \u001b[38;5;250m    \u001b[39m\u001b[38;5;124;03m\"\"\"\u001b[39;00m\n\u001b[0;32m    203\u001b[0m \u001b[38;5;124;03m    Gives a new shape to an array without changing its data.\u001b[39;00m\n\u001b[0;32m    204\u001b[0m \n\u001b[1;32m   (...)\u001b[0m\n\u001b[0;32m    283\u001b[0m \u001b[38;5;124;03m           [5, 6]])\u001b[39;00m\n\u001b[0;32m    284\u001b[0m \u001b[38;5;124;03m    \"\"\"\u001b[39;00m\n\u001b[1;32m--> 285\u001b[0m     \u001b[38;5;28;01mreturn\u001b[39;00m \u001b[43m_wrapfunc\u001b[49m\u001b[43m(\u001b[49m\u001b[43ma\u001b[49m\u001b[43m,\u001b[49m\u001b[43m \u001b[49m\u001b[38;5;124;43m'\u001b[39;49m\u001b[38;5;124;43mreshape\u001b[39;49m\u001b[38;5;124;43m'\u001b[39;49m\u001b[43m,\u001b[49m\u001b[43m \u001b[49m\u001b[43mnewshape\u001b[49m\u001b[43m,\u001b[49m\u001b[43m \u001b[49m\u001b[43morder\u001b[49m\u001b[38;5;241;43m=\u001b[39;49m\u001b[43morder\u001b[49m\u001b[43m)\u001b[49m\n",
      "File \u001b[1;32m~\\AppData\\Local\\Packages\\PythonSoftwareFoundation.Python.3.11_qbz5n2kfra8p0\\LocalCache\\local-packages\\Python311\\site-packages\\numpy\\core\\fromnumeric.py:59\u001b[0m, in \u001b[0;36m_wrapfunc\u001b[1;34m(obj, method, *args, **kwds)\u001b[0m\n\u001b[0;32m     56\u001b[0m     \u001b[38;5;28;01mreturn\u001b[39;00m _wrapit(obj, method, \u001b[38;5;241m*\u001b[39margs, \u001b[38;5;241m*\u001b[39m\u001b[38;5;241m*\u001b[39mkwds)\n\u001b[0;32m     58\u001b[0m \u001b[38;5;28;01mtry\u001b[39;00m:\n\u001b[1;32m---> 59\u001b[0m     \u001b[38;5;28;01mreturn\u001b[39;00m \u001b[43mbound\u001b[49m\u001b[43m(\u001b[49m\u001b[38;5;241;43m*\u001b[39;49m\u001b[43margs\u001b[49m\u001b[43m,\u001b[49m\u001b[43m \u001b[49m\u001b[38;5;241;43m*\u001b[39;49m\u001b[38;5;241;43m*\u001b[39;49m\u001b[43mkwds\u001b[49m\u001b[43m)\u001b[49m\n\u001b[0;32m     60\u001b[0m \u001b[38;5;28;01mexcept\u001b[39;00m \u001b[38;5;167;01mTypeError\u001b[39;00m:\n\u001b[0;32m     61\u001b[0m     \u001b[38;5;66;03m# A TypeError occurs if the object does have such a method in its\u001b[39;00m\n\u001b[0;32m     62\u001b[0m     \u001b[38;5;66;03m# class, but its signature is not identical to that of NumPy's. This\u001b[39;00m\n\u001b[1;32m   (...)\u001b[0m\n\u001b[0;32m     66\u001b[0m     \u001b[38;5;66;03m# Call _wrapit from within the except clause to ensure a potential\u001b[39;00m\n\u001b[0;32m     67\u001b[0m     \u001b[38;5;66;03m# exception has a traceback chain.\u001b[39;00m\n\u001b[0;32m     68\u001b[0m     \u001b[38;5;28;01mreturn\u001b[39;00m _wrapit(obj, method, \u001b[38;5;241m*\u001b[39margs, \u001b[38;5;241m*\u001b[39m\u001b[38;5;241m*\u001b[39mkwds)\n",
      "\u001b[1;31mValueError\u001b[0m: cannot reshape array of size 16 into shape (4,2)"
     ]
    }
   ],
   "source": [
    "losses = []\n",
    "iterations = 10000\n",
    "lr = 0.01\n",
    "samples = x_train.shape[1]\n",
    "\n",
    "for i in range(iterations):\n",
    "    z1, a1, z2, a2 = forward_propagation(x_train, W1, W2, b1, b2)\n",
    "    loss = -(1/samples) * np.sum(y_train*np.log(a2)+(1-y_train)*np.log(1-a2))\n",
    "    losses.append(loss)\n",
    "    da2, dw2, dz1, dw1 = back_propagation(samples, y_train, W1, W2, a1, a2)\n",
    "    W2 = W2 - lr * dw2\n",
    "    W1 = W1.T - lr * dw1 "
   ]
  },
  {
   "cell_type": "code",
   "execution_count": 23,
   "metadata": {},
   "outputs": [
    {
     "data": {
      "text/plain": [
       "Text(0, 0.5, 'Strata')"
      ]
     },
     "execution_count": 23,
     "metadata": {},
     "output_type": "execute_result"
    },
    {
     "data": {
      "image/png": "[encoded data removed]",
      "text/plain": [
       "<Figure size 640x480 with 1 Axes>"
      ]
     },
     "metadata": {},
     "output_type": "display_data"
    }
   ],
   "source": [
    "from matplotlib import pyplot as plt\n",
    "plt.plot(losses)\n",
    "plt.xlabel(\"EPOKI\")\n",
    "plt.ylabel(\"Strata\")"
   ]
  }
 ],
 "metadata": {
  "kernelspec": {
   "display_name": "Python 3",
   "language": "python",
   "name": "python3"
  },
  "language_info": {
   "codemirror_mode": {
    "name": "ipython",
    "version": 3
   },
   "file_extension": ".py",
   "mimetype": "text/x-python",
   "name": "python",
   "nbconvert_exporter": "python",
   "pygments_lexer": "ipython3",
   "version": "3.11.9"
  }
 },
 "nbformat": 4,
 "nbformat_minor": 2
}

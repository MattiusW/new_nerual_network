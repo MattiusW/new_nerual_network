{
 "cells": [
  {
   "cell_type": "code",
   "execution_count": 1,
   "metadata": {},
   "outputs": [],
   "source": [
    "import numpy as np"
   ]
  },
  {
   "cell_type": "code",
   "execution_count": 2,
   "metadata": {},
   "outputs": [
    {
     "name": "stdout",
     "output_type": "stream",
     "text": [
      "x_train.shape: (4, 2)\n",
      "y_train.shape: (4, 1)\n"
     ]
    }
   ],
   "source": [
    "x_train = np.array([[0,0],[0,1],[1,0],[1,1]])\n",
    "y_train = np.array([[0],[1],[1],[0]])\n",
    "\n",
    "print(f\"x_train.shape: {x_train.shape}\")\n",
    "print(f\"y_train.shape: {y_train.shape}\")"
   ]
  },
  {
   "cell_type": "code",
   "execution_count": 3,
   "metadata": {},
   "outputs": [
    {
     "data": {
      "text/plain": [
       "array([[0, 0],\n",
       "       [0, 1],\n",
       "       [1, 0],\n",
       "       [1, 1]])"
      ]
     },
     "execution_count": 3,
     "metadata": {},
     "output_type": "execute_result"
    }
   ],
   "source": [
    "x_train"
   ]
  },
  {
   "cell_type": "code",
   "execution_count": 4,
   "metadata": {},
   "outputs": [],
   "source": [
    "def init_weight_bias(number_of_features, number_neuron_of_layer):\n",
    "    weights = np.random.rand(number_of_features, number_neuron_of_layer)\n",
    "    bias = np.zeros((1, number_neuron_of_layer))\n",
    "\n",
    "    return weights, bias"
   ]
  },
  {
   "cell_type": "markdown",
   "metadata": {},
   "source": [
    "1. Wagi powinny mieć rozmiar == (liczbie cech, liczbie neuronów w warstwie).\n",
    "2. Liczba neuronów może być dowolna, ale zwykle jest równa liczbie cech w danych.\n",
    "3. Bias może być inicjalizowany wartością zerową.\n",
    "4. Mnożenie przez 0.01 zmiejsza wartości wag co pomaga uniknąć problemów z zanikającymi gradientami."
   ]
  },
  {
   "cell_type": "code",
   "execution_count": 5,
   "metadata": {},
   "outputs": [],
   "source": [
    "def sigmoid(x):\n",
    "    return 1 / (1 + np.exp(-x))"
   ]
  },
  {
   "cell_type": "markdown",
   "metadata": {},
   "source": [
    "![alt text](images/sigmoid.png \"Sigmoid\")"
   ]
  },
  {
   "cell_type": "code",
   "execution_count": 6,
   "metadata": {},
   "outputs": [],
   "source": [
    "def forward_propagation(x, W1, b1, W2, b2, W3, b3):\n",
    "    # Wejscie pierwszej warstwy\n",
    "    z1 = np.dot(x, W1) + b1\n",
    "    # Funkcja aktywacji\n",
    "    a1 = sigmoid(z1)\n",
    "\n",
    "    # Wejście do drugiej warstwy (tzw. ukrytej - \"hidden\")\n",
    "    z2 = np.dot(a1, W2) + b2 \n",
    "    a2 = sigmoid(z2)\n",
    "\n",
    "    # Wejście do warstwy wyjściowej (tzw. output layer)\n",
    "    z3 = np.dot(a2, W3) + b3\n",
    "    output_layer = sigmoid(z3)\n",
    "\n",
    "    return a1, a2, output_layer"
   ]
  },
  {
   "cell_type": "markdown",
   "metadata": {},
   "source": [
    "# Test funkcji propagacji wstecznej"
   ]
  },
  {
   "cell_type": "code",
   "execution_count": 7,
   "metadata": {},
   "outputs": [],
   "source": [
    "# Notacja naukowa zamieniająca np.array na przejrzyste macierze.\n",
    "np.set_printoptions(suppress=True)"
   ]
  },
  {
   "cell_type": "code",
   "execution_count": 8,
   "metadata": {},
   "outputs": [
    {
     "name": "stdout",
     "output_type": "stream",
     "text": [
      "W1:\n",
      "[[0.67454974 0.14915441]\n",
      " [0.41035072 0.10989593]],\n",
      "b1:\n",
      "[[0. 0.]]\n",
      "W1.shape: (2, 2),\n",
      "b1.shape:(1, 2)\n",
      "W2:\n",
      "[[0.30302192 0.93043129]\n",
      " [0.75787547 0.51832588]],\n",
      "b2:\n",
      "[[0. 0.]]\n",
      "W2.shape: (2, 2),\n",
      "b2.shape:(1, 2)\n",
      "W3:\n",
      "[[0.90330643 0.22716403]\n",
      " [0.48842506 0.04241549]],\n",
      "b3:\n",
      "[[0. 0.]]\n",
      "W3.shape: (2, 2),\n",
      "b3.shape:(1, 2)\n"
     ]
    }
   ],
   "source": [
    "fetures = x_train.shape[1]\n",
    "neurons = x_train.shape[1]\n",
    "\n",
    "w1, b1 = init_weight_bias(fetures, neurons)\n",
    "print(f\"W1:\\n{w1},\\nb1:\\n{b1}\")\n",
    "print(f\"W1.shape: {w1.shape},\\nb1.shape:{b1.shape}\")\n",
    "w2, b2 = init_weight_bias(fetures, neurons)\n",
    "print(f\"W2:\\n{w2},\\nb2:\\n{b2}\")\n",
    "print(f\"W2.shape: {w2.shape},\\nb2.shape:{b2.shape}\")\n",
    "w3, b3 = init_weight_bias(fetures, neurons)\n",
    "print(f\"W3:\\n{w3},\\nb3:\\n{b3}\")\n",
    "print(f\"W3.shape: {w3.shape},\\nb3.shape:{b3.shape}\")"
   ]
  },
  {
   "cell_type": "code",
   "execution_count": 9,
   "metadata": {},
   "outputs": [
    {
     "name": "stdout",
     "output_type": "stream",
     "text": [
      "layer: \n",
      " [[0.5        0.5       ]\n",
      " [0.60117197 0.52744636]\n",
      " [0.66252117 0.53721962]\n",
      " [0.74742023 0.56440283]]\n",
      "hidden: \n",
      " [[0.62958776 0.67357048]\n",
      " [0.64150608 0.69693362]\n",
      " [0.64746253 0.70989729]\n",
      " [0.65796345 0.72868633]]\n",
      "output: \n",
      " [[0.71047649 0.54279244]\n",
      " [0.71501692 0.54371011]\n",
      " [0.71739749 0.54418217]\n",
      " [0.72116571 0.54497144]]\n"
     ]
    }
   ],
   "source": [
    "layer, hidden, output = forward_propagation(x_train, w1, b1, w2, b2, w3, b3)\n",
    "print(f\"layer: \\n {layer}\")\n",
    "print(f\"hidden: \\n {hidden}\")\n",
    "print(f\"output: \\n {output}\")"
   ]
  },
  {
   "cell_type": "markdown",
   "metadata": {},
   "source": [
    "Koniec testu"
   ]
  },
  {
   "cell_type": "code",
   "execution_count": 10,
   "metadata": {},
   "outputs": [],
   "source": [
    "def compute_cost(y, y_hat):\n",
    "    m = y.shape[0] # liczba próbek\n",
    "    y_hat = np.clip(y_hat, 1e-10, 1 - 1e-10) # Wzór na y^\n",
    "\n",
    "    cost = -(1 / m) * np.sum(y * np.log(y_hat) + (1 - y) * np.log(1 - y_hat))\n",
    "    return cost"
   ]
  },
  {
   "cell_type": "markdown",
   "metadata": {},
   "source": [
    "![alt text](images/entropia_krzyzowa.png \"Entropia krzyzowa\")"
   ]
  },
  {
   "cell_type": "code",
   "execution_count": 11,
   "metadata": {},
   "outputs": [],
   "source": [
    "def backpropagate(x, y, a1, a2, output, W3, b3, W2, b2):\n",
    "    m = x.shape[1] # liczba próbek\n",
    "    error = output - y # Błąd to różnica pomiędzy a oczekiwanymi danymi\n",
    "\n",
    "    # Gradienty dla Wag w outpucie oraz dla biasow\n",
    "    dWeight_out = np.dot(a2.T, error) / m\n",
    "    dBias_out = np.sum(error, axis=0, keepdims=True) / m\n",
    "\n",
    "    # Propagacja wsteczna do ukrytej warstwy\n",
    "    dz2 = np.dot(error, W3.T) * (a2 * (1 - a2))\n",
    "    dWeight_hidden = np.dot(a1.T, dz2) / m\n",
    "    dBias_hidden = np.sum(dz2, axis=0, keepdims=True) / m\n",
    "\n",
    "    # Propagacja wsteczna do pierwszej wartwy\n",
    "    dz1 = np.dot(dz2, W2.T) * (a1 * (1 - a1)) \n",
    "    dWeight_first_layer = np.dot(x.T, dz1) / m\n",
    "    dBias_first_layer = np.sum(dz1, axis=0, keepdims=True) / m\n",
    "\n",
    "\n",
    "    return dWeight_first_layer, dBias_first_layer, dWeight_hidden, dBias_hidden, dWeight_out, dBias_out"
   ]
  },
  {
   "cell_type": "code",
   "execution_count": 12,
   "metadata": {},
   "outputs": [
    {
     "name": "stdout",
     "output_type": "stream",
     "text": [
      "W1 shape: (2, 2)\n",
      "dW1 shape: (2, 2)\n",
      "W2 shape: (2, 2)\n",
      "dW2 shape: (2, 2)\n",
      "W3 shape: (2, 2)\n",
      "dW3 shape: (2, 2)\n"
     ]
    }
   ],
   "source": [
    "dW3, db3, dW2, db2, dW1, db1 = backpropagate(x_train, y_train, layer, hidden, output, w3, b3, w2, b2)\n",
    "print(\"W1 shape:\", w1.shape)\n",
    "print(\"dW1 shape:\", dW1.shape)\n",
    "print(\"W2 shape:\", w2.shape)\n",
    "print(\"dW2 shape:\", dW2.shape)\n",
    "print(\"W3 shape:\", w3.shape)\n",
    "print(\"dW3 shape:\", dW3.shape)"
   ]
  },
  {
   "cell_type": "code",
   "execution_count": 13,
   "metadata": {},
   "outputs": [],
   "source": [
    "def update_weights_bias(W1, b1, W2, b2, W3, b3, dW1, db1, dW2, db2, dW3, db3, learning_rate):\n",
    "    W1 -= learning_rate * dW1\n",
    "    b1 -= learning_rate * db1\n",
    "\n",
    "    W2 -= learning_rate * dW2\n",
    "    b2 -= learning_rate * db2\n",
    "    \n",
    "    W3 -= learning_rate * dW3\n",
    "    b3 -= learning_rate * db3\n",
    "\n",
    "    return W1, b1, W2, b2, W3, b3  "
   ]
  },
  {
   "cell_type": "code",
   "execution_count": 14,
   "metadata": {},
   "outputs": [
    {
     "data": {
      "text/plain": [
       "(array([[0.67176967, 0.14859206],\n",
       "        [0.40732659, 0.10929025]]),\n",
       " array([[-0.00432028, -0.00087828]]),\n",
       " array([[0.30244479, 0.93015858],\n",
       "        [0.75737607, 0.51808842]]),\n",
       " array([[-0.00093972, -0.00044837]]),\n",
       " array([[0.90325281, 0.22705225],\n",
       "        [0.48837751, 0.04230574]]),\n",
       " array([[-0.00014831, -0.00023346]]))"
      ]
     },
     "execution_count": 14,
     "metadata": {},
     "output_type": "execute_result"
    }
   ],
   "source": [
    "update_weights_bias(w1, b1, w2, b2, w3, b3, dW1, db1, dW2, db2, dW3, db3, 0.01)"
   ]
  },
  {
   "cell_type": "markdown",
   "metadata": {},
   "source": [
    "# Trenowanie sieci neuronowej"
   ]
  },
  {
   "cell_type": "code",
   "execution_count": 15,
   "metadata": {},
   "outputs": [
    {
     "name": "stdout",
     "output_type": "stream",
     "text": [
      "Epoki 0, koszt: 0.7510\n",
      "Epoki 1000, koszt: 0.6931\n",
      "Epoki 2000, koszt: 0.6930\n",
      "Epoki 3000, koszt: 0.6928\n",
      "Epoki 4000, koszt: 0.6924\n",
      "Epoki 5000, koszt: 0.6905\n",
      "Epoki 6000, koszt: 0.6755\n",
      "Epoki 7000, koszt: 0.5344\n",
      "Epoki 8000, koszt: 0.0799\n",
      "Epoki 9000, koszt: 0.0193\n"
     ]
    }
   ],
   "source": [
    "lr = 0.1\n",
    "iterations = 10000\n",
    "losses = []\n",
    "\n",
    "x_train_1 = np.array([[0,0],[0,1],[1,0],[1,1]])\n",
    "y_train_1 = np.array([[0],[1],[1],[0]])\n",
    "\n",
    "fetures_1 = x_train_1.shape[1]\n",
    "neurons_1 = x_train_1.shape[1]\n",
    "\n",
    "W1_1, b1_1 = init_weight_bias(fetures_1, neurons_1)\n",
    "W2_2, b2_2 = init_weight_bias(fetures_1, neurons_1)\n",
    "W3_3, b3_3 = init_weight_bias(fetures_1, 1) # Na wyjściu musi być jeden neuron to wartość przewidywana\n",
    "\n",
    "for i in range(iterations):\n",
    "    # Propagacja przednia\n",
    "    layer_a1, hidden_a2, output_a3 = forward_propagation(x_train_1, W1_1, b1_1, W2_2, b2_2, W3_3, b3_3)\n",
    "\n",
    "    # Koszt\n",
    "    cost = compute_cost(y_train_1, output_a3)\n",
    "    losses.append(cost)\n",
    "\n",
    "    # Propagacja wsteczna\n",
    "    dW1_1, db1_1, dW2_2, db2_2, dW3_3, db3_3 = backpropagate(x_train_1, y_train_1, layer_a1, hidden_a2, output_a3, W3_3, b3_3, W2_2, b2_2)\n",
    "    \n",
    "    # Aktualizacja wag i biasow\n",
    "    W1_1, b1_1, W2_2, b2_2, W3_3, b3_3 = update_weights_bias(W1_1, b1_1, W2_2, b2_2, W3_3, b3_3, dW1_1, db1_1, dW2_2, db2_2, dW3_3, db3_3, lr)\n",
    "\n",
    "    if i % 1000 == 0:\n",
    "        print(f\"Epoki {i}, koszt: {cost:.4f}\")\n"
   ]
  },
  {
   "cell_type": "code",
   "execution_count": 16,
   "metadata": {},
   "outputs": [
    {
     "data": {
      "text/plain": [
       "Text(0, 0.5, 'Strata')"
      ]
     },
     "execution_count": 16,
     "metadata": {},
     "output_type": "execute_result"
    },
    {
     "data": {
      "image/png": "[encoded data removed]",
      "text/plain": [
       "<Figure size 640x480 with 1 Axes>"
      ]
     },
     "metadata": {},
     "output_type": "display_data"
    }
   ],
   "source": [
    "from matplotlib import pyplot as plt\n",
    "\n",
    "plt.plot(losses)\n",
    "plt.xlabel(\"Epoki\")\n",
    "plt.ylabel(\"Strata\")"
   ]
  },
  {
   "cell_type": "code",
   "execution_count": 17,
   "metadata": {},
   "outputs": [],
   "source": [
    "def predict(W1, b1, W2, b2, W3, b3, test):\n",
    "    a1, a2, output = forward_propagation(test, W1_1, b1_1, W2_2, b2_2, W3_3, b3_3)\n",
    "    output_a3 = np.squeeze(output)\n",
    "\n",
    "    prediction = 1 if output >= 0.5 else 0\n",
    "\n",
    "    print(\"Dane:\", test.tolist(), \"Odpowiedź:\", prediction)\n"
   ]
  },
  {
   "cell_type": "code",
   "execution_count": 18,
   "metadata": {},
   "outputs": [
    {
     "name": "stdout",
     "output_type": "stream",
     "text": [
      "Dane: [[0, 0]] Odpowiedź: 0\n",
      "Dane: [[0, 1]] Odpowiedź: 1\n",
      "Dane: [[1, 0]] Odpowiedź: 1\n",
      "Dane: [[1, 1]] Odpowiedź: 0\n"
     ]
    }
   ],
   "source": [
    "test = np.array([[0,0]])\n",
    "predict(W1_1, b1_1, W2_2, b2_2, W3_3, b3_3, test)\n",
    "test = np.array([[0,1]])\n",
    "predict(W1_1, b1_1, W2_2, b2_2, W3_3, b3_3, test)\n",
    "test = np.array([[1,0]])\n",
    "predict(W1_1, b1_1, W2_2, b2_2, W3_3, b3_3, test)\n",
    "test = np.array([[1,1]])\n",
    "predict(W1_1, b1_1, W2_2, b2_2, W3_3, b3_3, test)"
   ]
  }
 ],
 "metadata": {
  "kernelspec": {
   "display_name": "Python 3",
   "language": "python",
   "name": "python3"
  },
  "language_info": {
   "codemirror_mode": {
    "name": "ipython",
    "version": 3
   },
   "file_extension": ".py",
   "mimetype": "text/x-python",
   "name": "python",
   "nbconvert_exporter": "python",
   "pygments_lexer": "ipython3",
   "version": "3.11.9"
  }
 },
 "nbformat": 4,
 "nbformat_minor": 2
}
